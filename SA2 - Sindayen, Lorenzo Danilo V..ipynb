{
 "cells": [
  {
   "cell_type": "markdown",
   "id": "ead6df2b",
   "metadata": {},
   "source": [
    "## I. Amazon.csv"
   ]
  },
  {
   "cell_type": "markdown",
   "id": "49bbc9d6",
   "metadata": {},
   "source": [
    "Python Setup"
   ]
  },
  {
   "cell_type": "code",
   "execution_count": 3,
   "id": "9359f119",
   "metadata": {},
   "outputs": [],
   "source": [
    "import pandas as pd\n",
    "import matplotlib.pyplot as plt"
   ]
  },
  {
   "cell_type": "markdown",
   "id": "4e6b18cc",
   "metadata": {},
   "source": [
    "Define Path"
   ]
  },
  {
   "cell_type": "code",
   "execution_count": 4,
   "id": "e5e59060",
   "metadata": {},
   "outputs": [
    {
     "data": {
      "text/html": [
       "<div>\n",
       "<style scoped>\n",
       "    .dataframe tbody tr th:only-of-type {\n",
       "        vertical-align: middle;\n",
       "    }\n",
       "\n",
       "    .dataframe tbody tr th {\n",
       "        vertical-align: top;\n",
       "    }\n",
       "\n",
       "    .dataframe thead th {\n",
       "        text-align: right;\n",
       "    }\n",
       "</style>\n",
       "<table border=\"1\" class=\"dataframe\">\n",
       "  <thead>\n",
       "    <tr style=\"text-align: right;\">\n",
       "      <th></th>\n",
       "      <th>year</th>\n",
       "      <th>state</th>\n",
       "      <th>month</th>\n",
       "      <th>number</th>\n",
       "      <th>date</th>\n",
       "    </tr>\n",
       "  </thead>\n",
       "  <tbody>\n",
       "    <tr>\n",
       "      <th>0</th>\n",
       "      <td>1998</td>\n",
       "      <td>Acre</td>\n",
       "      <td>Janeiro</td>\n",
       "      <td>0.0</td>\n",
       "      <td>1998-01-01</td>\n",
       "    </tr>\n",
       "    <tr>\n",
       "      <th>1</th>\n",
       "      <td>1999</td>\n",
       "      <td>Acre</td>\n",
       "      <td>Janeiro</td>\n",
       "      <td>0.0</td>\n",
       "      <td>1999-01-01</td>\n",
       "    </tr>\n",
       "    <tr>\n",
       "      <th>2</th>\n",
       "      <td>2000</td>\n",
       "      <td>Acre</td>\n",
       "      <td>Janeiro</td>\n",
       "      <td>0.0</td>\n",
       "      <td>2000-01-01</td>\n",
       "    </tr>\n",
       "    <tr>\n",
       "      <th>3</th>\n",
       "      <td>2001</td>\n",
       "      <td>Acre</td>\n",
       "      <td>Janeiro</td>\n",
       "      <td>0.0</td>\n",
       "      <td>2001-01-01</td>\n",
       "    </tr>\n",
       "    <tr>\n",
       "      <th>4</th>\n",
       "      <td>2002</td>\n",
       "      <td>Acre</td>\n",
       "      <td>Janeiro</td>\n",
       "      <td>0.0</td>\n",
       "      <td>2002-01-01</td>\n",
       "    </tr>\n",
       "    <tr>\n",
       "      <th>...</th>\n",
       "      <td>...</td>\n",
       "      <td>...</td>\n",
       "      <td>...</td>\n",
       "      <td>...</td>\n",
       "      <td>...</td>\n",
       "    </tr>\n",
       "    <tr>\n",
       "      <th>6449</th>\n",
       "      <td>2012</td>\n",
       "      <td>Tocantins</td>\n",
       "      <td>Dezembro</td>\n",
       "      <td>128.0</td>\n",
       "      <td>2012-01-01</td>\n",
       "    </tr>\n",
       "    <tr>\n",
       "      <th>6450</th>\n",
       "      <td>2013</td>\n",
       "      <td>Tocantins</td>\n",
       "      <td>Dezembro</td>\n",
       "      <td>85.0</td>\n",
       "      <td>2013-01-01</td>\n",
       "    </tr>\n",
       "    <tr>\n",
       "      <th>6451</th>\n",
       "      <td>2014</td>\n",
       "      <td>Tocantins</td>\n",
       "      <td>Dezembro</td>\n",
       "      <td>223.0</td>\n",
       "      <td>2014-01-01</td>\n",
       "    </tr>\n",
       "    <tr>\n",
       "      <th>6452</th>\n",
       "      <td>2015</td>\n",
       "      <td>Tocantins</td>\n",
       "      <td>Dezembro</td>\n",
       "      <td>373.0</td>\n",
       "      <td>2015-01-01</td>\n",
       "    </tr>\n",
       "    <tr>\n",
       "      <th>6453</th>\n",
       "      <td>2016</td>\n",
       "      <td>Tocantins</td>\n",
       "      <td>Dezembro</td>\n",
       "      <td>119.0</td>\n",
       "      <td>2016-01-01</td>\n",
       "    </tr>\n",
       "  </tbody>\n",
       "</table>\n",
       "<p>6454 rows × 5 columns</p>\n",
       "</div>"
      ],
      "text/plain": [
       "      year      state     month  number       date\n",
       "0     1998       Acre   Janeiro     0.0 1998-01-01\n",
       "1     1999       Acre   Janeiro     0.0 1999-01-01\n",
       "2     2000       Acre   Janeiro     0.0 2000-01-01\n",
       "3     2001       Acre   Janeiro     0.0 2001-01-01\n",
       "4     2002       Acre   Janeiro     0.0 2002-01-01\n",
       "...    ...        ...       ...     ...        ...\n",
       "6449  2012  Tocantins  Dezembro   128.0 2012-01-01\n",
       "6450  2013  Tocantins  Dezembro    85.0 2013-01-01\n",
       "6451  2014  Tocantins  Dezembro   223.0 2014-01-01\n",
       "6452  2015  Tocantins  Dezembro   373.0 2015-01-01\n",
       "6453  2016  Tocantins  Dezembro   119.0 2016-01-01\n",
       "\n",
       "[6454 rows x 5 columns]"
      ]
     },
     "metadata": {},
     "output_type": "display_data"
    }
   ],
   "source": [
    "df = pd.read_excel('C:\\\\Chewy School\\\\College\\\\Professional Subjects\\\\1st year second sem\\\\Datasets\\\\amazon_7525541.xlsx')\n",
    "display(df)"
   ]
  },
  {
   "cell_type": "markdown",
   "id": "77f084ed",
   "metadata": {},
   "source": [
    "Content"
   ]
  },
  {
   "cell_type": "code",
   "execution_count": 5,
   "id": "e3acc856",
   "metadata": {},
   "outputs": [
    {
     "name": "stdout",
     "output_type": "stream",
     "text": [
      "<class 'pandas.core.frame.DataFrame'>\n",
      "RangeIndex: 6454 entries, 0 to 6453\n",
      "Data columns (total 5 columns):\n",
      " #   Column  Non-Null Count  Dtype         \n",
      "---  ------  --------------  -----         \n",
      " 0   year    6454 non-null   int64         \n",
      " 1   state   6454 non-null   object        \n",
      " 2   month   6454 non-null   object        \n",
      " 3   number  6454 non-null   float64       \n",
      " 4   date    6454 non-null   datetime64[ns]\n",
      "dtypes: datetime64[ns](1), float64(1), int64(1), object(2)\n",
      "memory usage: 252.2+ KB\n"
     ]
    },
    {
     "data": {
      "image/png": "[encoded data removed]",
      "text/plain": [
       "<Figure size 1000x500 with 1 Axes>"
      ]
     },
     "metadata": {},
     "output_type": "display_data"
    }
   ],
   "source": [
    "top_10 = df.head(10)\n",
    "last_10 = df.tail(10)\n",
    "shape = df.shape\n",
    "info = df.info()\n",
    "df.drop_duplicates(inplace=True)\n",
    "nulls = df.isnull().sum()\n",
    "describe = df.describe(include='all')\n",
    "\n",
    "df['month'] = df['month'].replace({\n",
    "    'Janeiro': 'January',\n",
    "    'Fevereiro': 'February',\n",
    "    'Março': 'March',\n",
    "    'Abril': 'April',\n",
    "    'Maio': 'May',\n",
    "    'Junho': 'June',\n",
    "    'Julho': 'July',\n",
    "    'Agosto': 'August',\n",
    "    'Setembro': 'September',\n",
    "    'Outubro': 'October',\n",
    "    'Novembro': 'November',\n",
    "    'Dezembro': 'December'\n",
    "})\n",
    "\n",
    "total_fires = df['number'].sum()\n",
    "max_fires_month = df.groupby('month')['number'].sum().idxmax()\n",
    "max_fires_year = df.groupby('year')['number'].sum().idxmax()\n",
    "max_fires_state = df.groupby('state')['number'].sum().idxmax()\n",
    "amazonas_total = df[df['state'] == 'Amazonas']['number'].sum()\n",
    "amazonas_by_year = df[df['state'] == 'Amazonas'].groupby('year')['number'].sum()\n",
    "df['date'] = pd.to_datetime(df['year'].astype(str) + '-' + df['month'] + '-01', errors='coerce')\n",
    "amazonas_by_day = df[df['state'] == 'Amazonas'].groupby('date')['number'].sum()\n",
    "\n",
    "fires_2015 = df[df['year'] == 2015].groupby('month')['number'].sum()\n",
    "fires_2015 = fires_2015.reindex([\n",
    "    'January', 'February', 'March', 'April', 'May', 'June',\n",
    "    'July', 'August', 'September', 'October', 'November', 'December'\n",
    "])\n",
    "fires_2015.plot(kind='bar', title='Fires in 2015 by Month', figsize=(10, 5))\n",
    "plt.xlabel('Month')\n",
    "plt.ylabel('Number of Fires')\n",
    "plt.tight_layout()\n",
    "plt.savefig('fires_2015.png')\n",
    "plt.show()\n",
    "\n",
    "avg_fires_by_state = df.groupby('state')['number'].mean().sort_values(ascending=False)\n",
    "dec_fires_states = df[df['month'] == 'December']['state'].unique()\n"
   ]
  },
  {
   "cell_type": "markdown",
   "id": "e13b15c3",
   "metadata": {},
   "source": [
    "## II. MovieLens 25M"
   ]
  },
  {
   "cell_type": "markdown",
   "id": "d15f940b",
   "metadata": {},
   "source": [
    "Python Setup"
   ]
  },
  {
   "cell_type": "code",
   "execution_count": 6,
   "id": "faaa0915",
   "metadata": {},
   "outputs": [],
   "source": [
    "import pandas as pd\n",
    "import matplotlib.pyplot as plt\n",
    "import seaborn as sns\n",
    "\n",
    "sns.set(style=\"whitegrid\")"
   ]
  },
  {
   "cell_type": "markdown",
   "id": "80006203",
   "metadata": {},
   "source": [
    "Define Path"
   ]
  },
  {
   "cell_type": "code",
   "execution_count": 7,
   "id": "5eca8e8f",
   "metadata": {},
   "outputs": [],
   "source": [
    "movies = pd.read_excel('C:\\\\Chewy School\\\\College\\\\Professional Subjects\\\\1st year second sem\\\\Datasets\\\\movies_7525528.xlsx')\n",
    "ratings = pd.read_excel('C:\\\\Chewy School\\\\College\\\\Professional Subjects\\\\1st year second sem\\\\Datasets\\\\ratings_7525529.xlsx')\n",
    "tags = pd.read_excel('C:\\\\Chewy School\\\\College\\\\Professional Subjects\\\\1st year second sem\\\\Datasets\\\\tags_7525530.xlsx')\n",
    "scores_df = pd.read_excel('C:\\\\Chewy School\\\\College\\\\Professional Subjects\\\\1st year second sem\\\\Datasets\\\\genome-scores_7525525.xlsx')\n",
    "tags_df = pd.read_excel('C:\\\\Chewy School\\\\College\\\\Professional Subjects\\\\1st year second sem\\\\Datasets\\\\genome-tags_7525526.xlsx')\n",
    "links_df = pd.read_excel('C:\\\\Chewy School\\\\College\\\\Professional Subjects\\\\1st year second sem\\\\Datasets\\\\links_7525527.xlsx')\n",
    "\n",
    "ratings['timestamp'] = pd.to_datetime(ratings['timestamp'], unit='s')"
   ]
  },
  {
   "cell_type": "markdown",
   "id": "de7089f8",
   "metadata": {},
   "source": [
    "Content"
   ]
  },
  {
   "cell_type": "markdown",
   "id": "2bc32f45",
   "metadata": {},
   "source": [
    "1. How many movies are released each year? What is the percentage of change over time?"
   ]
  },
  {
   "cell_type": "code",
   "execution_count": 8,
   "id": "228c80f5",
   "metadata": {},
   "outputs": [],
   "source": [
    "movies['year'] = movies['title'].str.extract(r'\\((\\d{4})\\)').astype(float)\n",
    "movies_by_year = movies['year'].value_counts().sort_index()\n",
    "pct_change = movies_by_year.pct_change() * 100\n",
    "\n",
    "plt.figure(figsize=(12, 6))\n",
    "movies_by_year.plot()\n",
    "plt.title('Number of Movies Released per Year')\n",
    "plt.xlabel('Year')\n",
    "plt.ylabel('Number of Movies')\n",
    "plt.grid(True)\n",
    "plt.tight_layout()\n",
    "plt.savefig('movies_per_year.png')\n",
    "plt.close()\n"
   ]
  },
  {
   "cell_type": "markdown",
   "id": "ef29aa24",
   "metadata": {},
   "source": [
    "2. What are the most popular genre of movies?"
   ]
  },
  {
   "cell_type": "code",
   "execution_count": 9,
   "id": "511fe838",
   "metadata": {},
   "outputs": [],
   "source": [
    "genre_counts = movies['genres'].str.split('|').explode().value_counts()\n",
    "\n",
    "plt.figure(figsize=(12, 6))\n",
    "genre_counts.plot(kind='bar', color='skyblue')\n",
    "plt.title('Most Popular Genres')\n",
    "plt.xlabel('Genre')\n",
    "plt.ylabel('Number of Movies')\n",
    "plt.xticks(rotation=45)\n",
    "plt.tight_layout()\n",
    "plt.savefig('popular_genres.png')\n",
    "plt.close()"
   ]
  },
  {
   "cell_type": "markdown",
   "id": "4e406004",
   "metadata": {},
   "source": [
    "3. Does the taste of movies changes over time?"
   ]
  },
  {
   "cell_type": "code",
   "execution_count": 10,
   "id": "3f34f684",
   "metadata": {},
   "outputs": [],
   "source": [
    "movies_year_rating = pd.merge(ratings, movies[['movieId', 'year']], on='movieId')\n",
    "avg_rating_by_year = movies_year_rating.groupby('year')['rating'].mean()\n",
    "\n",
    "plt.figure(figsize=(12, 6))\n",
    "avg_rating_by_year.plot(marker='o')\n",
    "plt.title('Average Movie Rating Over the Years')\n",
    "plt.xlabel('Year')\n",
    "plt.ylabel('Average Rating')\n",
    "plt.grid(True)\n",
    "plt.tight_layout()\n",
    "plt.savefig('rating_trend.png')\n",
    "plt.close()"
   ]
  },
  {
   "cell_type": "markdown",
   "id": "be45b265",
   "metadata": {},
   "source": [
    "4. What are the top 20 movies that has the top amount of users rating and has the highest rate?"
   ]
  },
  {
   "cell_type": "code",
   "execution_count": 11,
   "id": "e360c114",
   "metadata": {},
   "outputs": [
    {
     "data": {
      "text/plain": [
       "<Figure size 1200x600 with 0 Axes>"
      ]
     },
     "metadata": {},
     "output_type": "display_data"
    }
   ],
   "source": [
    "ratings_stats = ratings.groupby('movieId').agg({'rating': ['mean', 'count']})\n",
    "ratings_stats.columns = ['average_rating', 'rating_count']\n",
    "ratings_stats = ratings_stats.sort_values(by='rating_count', ascending=False)\n",
    "\n",
    "top_rated_movies = pd.merge(ratings_stats, movies[['movieId', 'title']], on='movieId')\n",
    "top_20 = top_rated_movies[top_rated_movies['rating_count'] > 500].sort_values(by='average_rating', ascending=False).head(20)\n",
    "\n",
    "top_20.to_csv('top_20_movies.csv', index=False)\n",
    "\n",
    "plt.figure(figsize=(12, 6))\n",
    "top_20.plot(kind='barh', x='title', y='average_rating', legend=False, color='orange')\n",
    "plt.title('Top 20 Movies by Rating (Min 500 Ratings)')\n",
    "plt.xlabel('Average Rating')\n",
    "plt.tight_layout()\n",
    "plt.savefig('top_20_movies.png')\n",
    "plt.close()"
   ]
  },
  {
   "cell_type": "markdown",
   "id": "6c41cc21",
   "metadata": {},
   "source": [
    "5. What is the most of popular season for releasing movies?"
   ]
  },
  {
   "cell_type": "code",
   "execution_count": 12,
   "id": "9e70864a",
   "metadata": {},
   "outputs": [],
   "source": [
    "ratings['month'] = ratings['timestamp'].dt.month\n",
    "\n",
    "seasons = {\n",
    "    12: 'Winter', 1: 'Winter', 2: 'Winter',\n",
    "    3: 'Spring', 4: 'Spring', 5: 'Spring',\n",
    "    6: 'Summer', 7: 'Summer', 8: 'Summer',\n",
    "    9: 'Fall', 10: 'Fall', 11: 'Fall'\n",
    "}\n",
    "ratings['season'] = ratings['month'].map(seasons)\n",
    "season_popularity = ratings['season'].value_counts()\n",
    "\n",
    "plt.figure(figsize=(8, 6))\n",
    "season_popularity.plot(kind='bar', color='coral')\n",
    "plt.title('Most Popular Season for Movie Ratings')\n",
    "plt.xlabel('Season')\n",
    "plt.ylabel('Number of Ratings')\n",
    "plt.tight_layout()\n",
    "plt.savefig('popular_season.png')\n",
    "plt.close()"
   ]
  }
 ],
 "metadata": {
  "kernelspec": {
   "display_name": ".venv",
   "language": "python",
   "name": "python3"
  },
  "language_info": {
   "codemirror_mode": {
    "name": "ipython",
    "version": 3
   },
   "file_extension": ".py",
   "mimetype": "text/x-python",
   "name": "python",
   "nbconvert_exporter": "python",
   "pygments_lexer": "ipython3",
   "version": "3.13.2"
  }
 },
 "nbformat": 4,
 "nbformat_minor": 5
}

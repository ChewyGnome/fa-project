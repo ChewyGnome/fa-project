{
 "cells": [
  {
   "cell_type": "markdown",
   "metadata": {},
   "source": [
    "# FA4"
   ]
  },
  {
   "cell_type": "markdown",
   "metadata": {},
   "source": [
    "1. Write a Python program to print the even numbers from a given list.\n",
    "\n",
    "List: [1, 2, 3, 4, 5, 6, 7, 8, 9, 10, 11, 13, 15, 17, 19, 24, 26, 28, 30, 32]"
   ]
  },
  {
   "cell_type": "code",
   "execution_count": 1,
   "metadata": {},
   "outputs": [],
   "source": [
    "import numpy as np\n",
    "\n",
    "def print_even(lst):\n",
    "    try:\n",
    "        # We assert that 'lst' is a list, if not, AssertionError is raised\n",
    "        assert type(lst) == list\n",
    "\n",
    "        # All numbers must be an integer, if not, TypeError is raised\n",
    "        if any(type(n) != int for n in lst):\n",
    "            raise TypeError\n",
    "        \n",
    "        # Using list comprehension, we can only take the even numbers\n",
    "        print([n for n in lst if n % 2 == 0])\n",
    "        \n",
    "    except AssertionError:\n",
    "        print('Input is not a list')\n",
    "    except TypeError:\n",
    "        print('An item in list is not an integer')"
   ]
  },
  {
   "cell_type": "code",
   "execution_count": 2,
   "metadata": {},
   "outputs": [
    {
     "name": "stdout",
     "output_type": "stream",
     "text": [
      "[2, 4, 6, 8]\n",
      "[2, 4, 6, 8, 10, 12, 14, 16, 18, 20, 22, 24, 26, 28, 30, 32, 34, 36, 38, 40, 42, 44, 46, 48, 50, 52]\n",
      "[0, 2, 4]\n",
      "An item in list is not an integer\n",
      "[2, 4, 6, 8, 10, 24, 26, 28, 30, 32]\n"
     ]
    }
   ],
   "source": [
    "print_even(np.arange(1, 9).tolist())\n",
    "print_even(np.arange(1, 53).tolist())\n",
    "print_even([0, 1, 2, 3, 4, 5])\n",
    "print_even([9, 8, -1, 1.51, 5.5])\n",
    "print_even([1, 2, 3, 4, 5, 6, 7, 8, 9, 10, 11, 13, 15, 17, 19, 24, 26, 28, 30, 32])"
   ]
  },
  {
   "cell_type": "markdown",
   "metadata": {},
   "source": [
    "2. Python list of all the even numbers between 10 to 60"
   ]
  },
  {
   "cell_type": "code",
   "execution_count": 3,
   "metadata": {},
   "outputs": [
    {
     "name": "stdout",
     "output_type": "stream",
     "text": [
      "[12, 14, 16, 18, 20, 22, 24, 26, 28, 30, 32, 34, 36, 38, 40, 42, 44, 46, 48, 50, 52, 54, 56, 58, 60]\n"
     ]
    }
   ],
   "source": [
    "print(np.arange(12, 61, 2).tolist())"
   ]
  },
  {
   "cell_type": "markdown",
   "metadata": {},
   "source": [
    "3. Write a program to create a function ```show_feu_professor()``` using the following conditions:\n",
    "* It should accept the professor's name and salary and display both.\n",
    "* If the salary is missing in the function call then assign default value 70000 to salary.\n",
    "\n",
    "Expected output: Display of at least 5 FEU professors with their salaries."
   ]
  },
  {
   "cell_type": "code",
   "execution_count": 4,
   "metadata": {},
   "outputs": [],
   "source": [
    "# We set salary to 70000 as the default if no input is given\n",
    "def show_feu_professor(name, salary=70000):\n",
    "    print(f'Name: {name}')\n",
    "    print(f'Salary: {salary}\\n')"
   ]
  },
  {
   "cell_type": "code",
   "execution_count": 7,
   "metadata": {},
   "outputs": [
    {
     "name": "stdout",
     "output_type": "stream",
     "text": [
      "Name: Math Stonie\n",
      "Salary: 20000\n",
      "\n",
      "Name: Magnus Carlsen\n",
      "Salary: 100000\n",
      "\n",
      "Name: Brave Browser\n",
      "Salary: 50000\n",
      "\n",
      "Name: Jupyter Notebook\n",
      "Salary: 70000\n",
      "\n",
      "Name: Realchad Stallman\n",
      "Salary: 70000\n",
      "\n"
     ]
    }
   ],
   "source": [
    "professors = ['Math Stonie', 'Magnus Carlsen', 'Brave Browser', 'Jupyter Notebook', 'Realchad Stallman']\n",
    "salaries = [20000, 100000, 50000, None, None]\n",
    "\n",
    "for x, y in zip(professors, salaries):\n",
    "    if y != None:\n",
    "        show_feu_professor(x, y)\n",
    "    else:\n",
    "        show_feu_professor(x)"
   ]
  }
 ],
 "metadata": {
  "kernelspec": {
   "display_name": ".venv",
   "language": "python",
   "name": "python3"
  },
  "language_info": {
   "codemirror_mode": {
    "name": "ipython",
    "version": 3
   },
   "file_extension": ".py",
   "mimetype": "text/x-python",
   "name": "python",
   "nbconvert_exporter": "python",
   "pygments_lexer": "ipython3",
   "version": "3.13.2"
  }
 },
 "nbformat": 4,
 "nbformat_minor": 2
}

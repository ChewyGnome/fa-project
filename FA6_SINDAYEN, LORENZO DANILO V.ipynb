{
 "cells": [
  {
   "cell_type": "markdown",
   "metadata": {},
   "source": [
    "## FA6\n",
    "Sindayen, Lorenzo Danilo V."
   ]
  },
  {
   "cell_type": "code",
   "execution_count": 1,
   "metadata": {},
   "outputs": [],
   "source": [
    "def ack(x, y):\n",
    "    if x == 0:\n",
    "        return y + 1\n",
    "    elif y == 0:\n",
    "        return ack(x - 1, 1)\n",
    "    else:\n",
    "        return ack(x - 1, ack(x, y - 1))\n",
    "\n",
    "def is_power(a, b):\n",
    "    if a == 1:\n",
    "        return True\n",
    "    if b == 0 or b == 1 or a < 1:\n",
    "        return a == b\n",
    "    if a % b != 0:\n",
    "        return False\n",
    "    return is_power(a / b, b)"
   ]
  },
  {
   "cell_type": "code",
   "execution_count": 2,
   "metadata": {},
   "outputs": [
    {
     "name": "stdout",
     "output_type": "stream",
     "text": [
      "Ackermann Function:\n",
      "ack(2,4) = 11\n",
      "\n",
      "Power Function:\n",
      "is_power(8,2) = True\n",
      "is_power(27,3) = True\n",
      "is_power(10,2) = False\n"
     ]
    }
   ],
   "source": [
    "print(\"Ackermann Function:\")\n",
    "print(\"ack(2,4) =\", ack(2, 4))\n",
    "print(\"\\nPower Function:\")\n",
    "print(\"is_power(8,2) =\", is_power(8, 2))\n",
    "print(\"is_power(27,3) =\", is_power(27, 3))\n",
    "print(\"is_power(10,2) =\", is_power(10, 2))"
   ]
  }
 ],
 "metadata": {
  "kernelspec": {
   "display_name": "Python 3",
   "language": "python",
   "name": "python3"
  },
  "language_info": {
   "codemirror_mode": {
    "name": "ipython",
    "version": 3
   },
   "file_extension": ".py",
   "mimetype": "text/x-python",
   "name": "python",
   "nbconvert_exporter": "python",
   "pygments_lexer": "ipython3",
   "version": "3.13.1"
  }
 },
 "nbformat": 4,
 "nbformat_minor": 2
}

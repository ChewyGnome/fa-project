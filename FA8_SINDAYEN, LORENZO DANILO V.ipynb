{
 "cells": [
  {
   "cell_type": "code",
   "execution_count": 14,
   "id": "0054611e",
   "metadata": {},
   "outputs": [
    {
     "name": "stdout",
     "output_type": "stream",
     "text": [
      "Iterative solution:\n",
      "Total: 2097151\n",
      "Rendering time: 0.000113487 seconds\n"
     ]
    }
   ],
   "source": [
    "import time\n",
    "\n",
    "def iterative_sum_of_powers(n):\n",
    "    total = 0\n",
    "    for i in range(n + 1):\n",
    "        total += 2 ** i\n",
    "    return total\n",
    "\n",
    "n = int(input(\"Enter the value of n: \"))\n",
    "\n",
    "print(\"Iterative solution:\")\n",
    "start = time.time()\n",
    "total = iterative_sum_of_powers(n)\n",
    "end = time.time()\n",
    "\n",
    "print(f\"Total: {total}\")\n",
    "print(f\"Rendering time: {end - start:.9f} seconds\")\n"
   ]
  },
  {
   "cell_type": "code",
   "execution_count": 15,
   "id": "ea0d91f4",
   "metadata": {},
   "outputs": [
    {
     "name": "stdout",
     "output_type": "stream",
     "text": [
      "Recursive solution:\n",
      "Total: 2097151\n",
      "Rendering time: 0.000116110 seconds\n"
     ]
    }
   ],
   "source": [
    "import time\n",
    "\n",
    "def recursive_sum_of_powers(n):\n",
    "    if n == 0:\n",
    "        return 1\n",
    "    return 2 ** n + recursive_sum_of_powers(n - 1)\n",
    "\n",
    "n = int(input(\"Enter the value of n: \"))\n",
    "\n",
    "print(\"Recursive solution:\")\n",
    "start = time.time()\n",
    "total = recursive_sum_of_powers(n)\n",
    "end = time.time()\n",
    "\n",
    "print(f\"Total: {total}\")\n",
    "print(f\"Rendering time: {end - start:.9f} seconds\")\n"
   ]
  },
  {
   "cell_type": "markdown",
   "id": "4d3e8c7a",
   "metadata": {},
   "source": [
    "Which of the two functions performs faster? And why is it performing faster?\n",
    "1. From my observation both Recursive and Iterative are equally matched in terms of efficiency with Iterative edging ever so slightly. Because of its execution being linear."
   ]
  }
 ],
 "metadata": {
  "kernelspec": {
   "display_name": ".venv",
   "language": "python",
   "name": "python3"
  },
  "language_info": {
   "codemirror_mode": {
    "name": "ipython",
    "version": 3
   },
   "file_extension": ".py",
   "mimetype": "text/x-python",
   "name": "python",
   "nbconvert_exporter": "python",
   "pygments_lexer": "ipython3",
   "version": "3.13.2"
  }
 },
 "nbformat": 4,
 "nbformat_minor": 5
}

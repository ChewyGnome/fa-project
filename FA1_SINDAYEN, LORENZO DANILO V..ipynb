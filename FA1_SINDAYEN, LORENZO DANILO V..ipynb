{
 "cells": [
  {
   "cell_type": "code",
   "execution_count": 8,
   "id": "c3d3b2b6-adad-4675-8dbc-09963a0132fc",
   "metadata": {},
   "outputs": [
    {
     "name": "stdout",
     "output_type": "stream",
     "text": [
      "1. The total seconds is 2562\n"
     ]
    }
   ],
   "source": [
    "min = 42\n",
    "sec = 42\n",
    "total_sec = min * 60 + sec\n",
    "print(f'1. The total seconds is {total_sec}')"
   ]
  },
  {
   "cell_type": "code",
   "execution_count": 7,
   "id": "18fc0f10-4330-40a4-9a38-1e0c2e1309df",
   "metadata": {},
   "outputs": [
    {
     "name": "stdout",
     "output_type": "stream",
     "text": [
      "2. 10.00 kilometers is equal to 6.21 miles\n"
     ]
    }
   ],
   "source": [
    "kilometers = 10\n",
    "mile_per_km = 0.621371\n",
    "distance = kilometers * mile_per_km\n",
    "print('2. %0.2f kilometers is equal to %0.2f miles' % (kilometers, distance))"
   ]
  },
  {
   "cell_type": "code",
   "execution_count": 6,
   "id": "9a229a04-3a9d-4758-8d3b-0f2736a109f6",
   "metadata": {},
   "outputs": [
    {
     "name": "stdout",
     "output_type": "stream",
     "text": [
      "3. Distance in miles: 6.21 miles\n",
      "4. Average pace: 6 minutes 52 seconds per mile\n",
      "   Average speed: 8.73 miles per hour\n"
     ]
    }
   ],
   "source": [
    "km_distance = 10\n",
    "miles_per_km = 0.621371\n",
    "miles_distance = km_distance * miles_per_km\n",
    "print(f\"3. Distance in miles: {miles_distance:.2f} miles\")\n",
    "total_minutes = 42 + 42 / 60\n",
    "total_hours = total_minutes / 60\n",
    "pace_per_mile = total_minutes / miles_distance\n",
    "pace_minutes = int(pace_per_mile)\n",
    "pace_seconds = (pace_per_mile - pace_minutes) * 60\n",
    "print(f\"4. Average pace: {pace_minutes} minutes {pace_seconds:.0f} seconds per mile\")\n",
    "speed_mph = miles_distance / total_hours\n",
    "print(f\"   Average speed: {speed_mph:.2f} miles per hour\")\n"
   ]
  },
  {
   "cell_type": "code",
   "execution_count": null,
   "id": "33fee2ff-ed3c-47e6-b1c9-f350bef703be",
   "metadata": {},
   "outputs": [],
   "source": []
  }
 ],
 "metadata": {
  "kernelspec": {
   "display_name": "Python 3 (ipykernel)",
   "language": "python",
   "name": "python3"
  },
  "language_info": {
   "codemirror_mode": {
    "name": "ipython",
    "version": 3
   },
   "file_extension": ".py",
   "mimetype": "text/x-python",
   "name": "python",
   "nbconvert_exporter": "python",
   "pygments_lexer": "ipython3",
   "version": "3.13.1"
  }
 },
 "nbformat": 4,
 "nbformat_minor": 5
}

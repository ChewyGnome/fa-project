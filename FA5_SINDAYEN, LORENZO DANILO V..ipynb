{
 "cells": [
  {
   "cell_type": "markdown",
   "metadata": {},
   "source": [
    "## FA5\n",
    "1.  You first need to modify the DrawFence(s) to draw a circle of radius r.\n",
    "2. When is above is working modify Bounce_off_fence(t,r) to work with the circle. \n",
    "3. The remainder of the code aught to work as is."
   ]
  },
  {
   "cell_type": "code",
   "execution_count": 7,
   "metadata": {},
   "outputs": [],
   "source": [
    "import turtle\n",
    "import math\n",
    "\n",
    "def DrawFence(r):\n",
    "    fence = turtle.Turtle()\n",
    "    fence.hideturtle()\n",
    "    fence.penup()\n",
    "    fence.goto(0, -r)\n",
    "    fence.pendown()\n",
    "    fence.circle(r)\n",
    "\n",
    "def Bounce_off_fence(t, r):\n",
    "    x, y = t.pos()\n",
    "    if math.sqrt(x**2 + y**2) > r:\n",
    "        angle = math.atan2(y, x)\n",
    "        new_x, new_y = r * math.cos(angle), r * math.sin(angle)\n",
    "        t.goto(new_x, new_y)\n",
    "        t.setheading(180 + t.heading())\n",
    "\n",
    "def MoveTurtle(t, r, screen):\n",
    "    global running\n",
    "\n",
    "    def stop():\n",
    "        global running\n",
    "        running = False\n",
    "\n",
    "    screen.listen()\n",
    "    screen.onkey(stop, \"Escape\")\n",
    "    \n",
    "    while running:\n",
    "        t.forward(10)\n",
    "        Bounce_off_fence(t, r)\n",
    "        screen.update()\n",
    "\n",
    "def main():\n",
    "    global running\n",
    "\n",
    "    screen = turtle.Screen()\n",
    "    screen.tracer(0)\n",
    "\n",
    "    while True:\n",
    "        running = True\n",
    "        screen.clear()\n",
    "\n",
    "        t = turtle.Turtle()\n",
    "        t.speed(5)\n",
    "        draw_radius = 100\n",
    "        DrawFence(draw_radius)\n",
    "        MoveTurtle(t, draw_radius, screen)\n",
    "\n",
    "        running = False  # Ensure loop stops properly\n",
    "        restart = input(\"Restart the program? (y/n): \").strip().lower()\n",
    "        \n",
    "        if restart != 'y':\n",
    "            break  # Exit loop safely\n",
    "\n",
    "    screen.bye()  # Close only when exiting completely\n",
    "\n",
    "if __name__ == \"__main__\":\n",
    "    try:\n",
    "        main()\n",
    "    except turtle.Terminator:\n",
    "        print(\"Turtle graphics session was closed. Exiting safely.\")\n"
   ]
  }
 ],
 "metadata": {
  "kernelspec": {
   "display_name": "Python 3",
   "language": "python",
   "name": "python3"
  },
  "language_info": {
   "codemirror_mode": {
    "name": "ipython",
    "version": 3
   },
   "file_extension": ".py",
   "mimetype": "text/x-python",
   "name": "python",
   "nbconvert_exporter": "python",
   "pygments_lexer": "ipython3",
   "version": "3.13.2"
  }
 },
 "nbformat": 4,
 "nbformat_minor": 2
}

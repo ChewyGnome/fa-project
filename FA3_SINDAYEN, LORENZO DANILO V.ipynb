{
 "cells": [
  {
   "cell_type": "markdown",
   "metadata": {},
   "source": [
    "# FA3\n",
    "Practice using the Python interpreter as a calculator:"
   ]
  },
  {
   "cell_type": "markdown",
   "metadata": {},
   "source": [
    "1. The volume of a sphere with radius r is (4/3)(pi)(r^3). What is the volume of a sphere with radius 5?"
   ]
  },
  {
   "cell_type": "code",
   "execution_count": 1,
   "metadata": {},
   "outputs": [],
   "source": [
    "import math\n",
    "\n",
    "def volume_sphere(r):\n",
    "    try:\n",
    "        res = 4 / 3 * math.pi * (r ** 3)\n",
    "\n",
    "        # round() is used to limit 2 decimal places\n",
    "        print(round(res, 2))\n",
    "\n",
    "    except ValueError:\n",
    "        print('Input radius is not a float')"
   ]
  },
  {
   "cell_type": "code",
   "execution_count": 2,
   "metadata": {},
   "outputs": [
    {
     "name": "stdout",
     "output_type": "stream",
     "text": [
      "523.6\n"
     ]
    }
   ],
   "source": [
    "r = 5\n",
    "volume_sphere(r)"
   ]
  },
  {
   "cell_type": "markdown",
   "metadata": {},
   "source": [
    "2. Suppose the cover price of a book is $24.95, but bookstores get a 40% discount. Shipping costs $3 for the first copy and 75 cents for each additional copy. What is the wholesale cost of 60 copies?"
   ]
  },
  {
   "cell_type": "code",
   "execution_count": 3,
   "metadata": {},
   "outputs": [
    {
     "name": "stdout",
     "output_type": "stream",
     "text": [
      "Price is $159.45\n"
     ]
    }
   ],
   "source": [
    "price = 24.95 * (1 - 0.4)\n",
    "first_copy = price + 3\n",
    "additional_copy = price + 0.75\n",
    "\n",
    "try:\n",
    "    n = int(input('Enter amount of copies: '))\n",
    "    if n < 1:\n",
    "        print('Price is $0.00')\n",
    "    elif n == 1:\n",
    "        print(f'Price is ${round(first_copy, 2)}')\n",
    "    else:\n",
    "        print(f'Price is ${round(first_copy + (n - 1) * additional_copy, 2)}')\n",
    "except ValueError:\n",
    "    print('Invalid input')"
   ]
  },
  {
   "cell_type": "markdown",
   "metadata": {},
   "source": [
    "3. If I leave my house at 6:52 am and run 1 mile at an easy pace (8:15 per mile), then 3 miles at tempo (7:12 per mile) and 1 mile at an easy pace again, what time do I get home for breakfast?"
   ]
  },
  {
   "cell_type": "code",
   "execution_count": 4,
   "metadata": {},
   "outputs": [
    {
     "data": {
      "text/plain": [
       "'07:30 AM'"
      ]
     },
     "execution_count": 4,
     "metadata": {},
     "output_type": "execute_result"
    }
   ],
   "source": [
    "from datetime import datetime, timedelta\n",
    "\n",
    "def get_home_time():\n",
    "    start_time = datetime.strptime(\"06:52 AM\", \"%I:%M %p\")\n",
    "    easy_pace = timedelta(minutes=8, seconds=15)\n",
    "    tempo_pace = timedelta(minutes=7, seconds=12)\n",
    "    \n",
    "    total_time = easy_pace + 3 * tempo_pace + easy_pace\n",
    "    end_time = start_time + total_time\n",
    "    \n",
    "    return end_time.strftime(\"%I:%M %p\")\n",
    "\n",
    "get_home_time()"
   ]
  }
 ],
 "metadata": {
  "kernelspec": {
   "display_name": "Python 3",
   "language": "python",
   "name": "python3"
  },
  "language_info": {
   "codemirror_mode": {
    "name": "ipython",
    "version": 3
   },
   "file_extension": ".py",
   "mimetype": "text/x-python",
   "name": "python",
   "nbconvert_exporter": "python",
   "pygments_lexer": "ipython3",
   "version": "3.13.1"
  }
 },
 "nbformat": 4,
 "nbformat_minor": 2
}

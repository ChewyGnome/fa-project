{
 "cells": [
  {
   "cell_type": "markdown",
   "metadata": {},
   "source": [
    "## I. Recursion"
   ]
  },
  {
   "cell_type": "code",
   "execution_count": 1,
   "metadata": {},
   "outputs": [],
   "source": [
    "def countdown_recursion(n):\n",
    "    try:\n",
    "        if n <= 0:\n",
    "            # print('Blastoff!')\n",
    "            pass\n",
    "        else:\n",
    "            # print(n)\n",
    "            pass\n",
    "        countdown_recursion(n-1)\n",
    "    except RecursionError:\n",
    "        exit"
   ]
  },
  {
   "cell_type": "code",
   "execution_count": 2,
   "metadata": {},
   "outputs": [
    {
     "name": "stdout",
     "output_type": "stream",
     "text": [
      "378 μs ± 9.85 μs per loop (mean ± std. dev. of 7 runs, 1,000 loops each)\n",
      "380 μs ± 7.53 μs per loop (mean ± std. dev. of 7 runs, 1,000 loops each)\n",
      "388 μs ± 9.88 μs per loop (mean ± std. dev. of 7 runs, 1,000 loops each)\n",
      "390 μs ± 5.47 μs per loop (mean ± std. dev. of 7 runs, 1,000 loops each)\n"
     ]
    }
   ],
   "source": [
    "%timeit -n 1000 countdown_recursion(100)\n",
    "%timeit -n 1000 countdown_recursion(1000)\n",
    "%timeit -n 1000 countdown_recursion(10000)\n",
    "%timeit -n 1000 countdown_recursion(100000)"
   ]
  },
  {
   "cell_type": "markdown",
   "metadata": {},
   "source": [
    "Explanation: More consistent perforance and output for all values of n, overall much faster and efficient in most values of n"
   ]
  },
  {
   "cell_type": "markdown",
   "metadata": {},
   "source": [
    "## II. Using while Statement"
   ]
  },
  {
   "cell_type": "code",
   "execution_count": 3,
   "metadata": {},
   "outputs": [],
   "source": [
    "def countdown_while(n):\n",
    "    try:\n",
    "        while n > 0:\n",
    "            # print(n)\n",
    "            n = n - 1\n",
    "        # print('Blastoff!')\n",
    "    except RecursionError:\n",
    "        exit"
   ]
  },
  {
   "cell_type": "code",
   "execution_count": 4,
   "metadata": {},
   "outputs": [
    {
     "name": "stdout",
     "output_type": "stream",
     "text": [
      "3.56 μs ± 297 ns per loop (mean ± std. dev. of 7 runs, 1,000 loops each)\n",
      "31.9 μs ± 1.73 μs per loop (mean ± std. dev. of 7 runs, 1,000 loops each)\n",
      "353 μs ± 35.8 μs per loop (mean ± std. dev. of 7 runs, 1,000 loops each)\n",
      "3.15 ms ± 59.7 μs per loop (mean ± std. dev. of 7 runs, 1,000 loops each)\n"
     ]
    }
   ],
   "source": [
    "%timeit -n 1000 countdown_while(100)\n",
    "%timeit -n 1000 countdown_while(1000)\n",
    "%timeit -n 1000 countdown_while(10000)\n",
    "%timeit -n 1000 countdown_while(100000)"
   ]
  },
  {
   "cell_type": "markdown",
   "metadata": {},
   "source": [
    "Explanation: Fluctuating performance and dependent on the value of n, for smaller values of n it could be faster but is more situational and dependent on smaller values of n"
   ]
  }
 ],
 "metadata": {
  "kernelspec": {
   "display_name": "Python 3",
   "language": "python",
   "name": "python3"
  },
  "language_info": {
   "codemirror_mode": {
    "name": "ipython",
    "version": 3
   },
   "file_extension": ".py",
   "mimetype": "text/x-python",
   "name": "python",
   "nbconvert_exporter": "python",
   "pygments_lexer": "ipython3",
   "version": "3.13.2"
  }
 },
 "nbformat": 4,
 "nbformat_minor": 2
}

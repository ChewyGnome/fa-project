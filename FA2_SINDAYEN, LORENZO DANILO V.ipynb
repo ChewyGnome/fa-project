{
 "cells": [
  {
   "cell_type": "markdown",
   "metadata": {},
   "source": [
    "# FA2"
   ]
  },
  {
   "cell_type": "markdown",
   "metadata": {},
   "source": [
    "1. Write a Python function to multiply all numbers in a list"
   ]
  },
  {
   "cell_type": "code",
   "execution_count": null,
   "metadata": {},
   "outputs": [],
   "source": [
    "import math\n",
    "import numpy as np\n",
    "\n",
    "def multiply_list(lst):\n",
    "    try:\n",
    "        # We assert that 'lst' is a list, if not, AssertionError is raised\n",
    "        assert type(lst) == list\n",
    "\n",
    "        # All numbers must be either an integer or a float, if not, TypeError is raised\n",
    "        if any(type(n) != int and type(n) != float for n in lst):\n",
    "            raise TypeError\n",
    "        \n",
    "        # Using the prod() function in math module, we can multiply all items in list\n",
    "        # round() is used to limit 2 decimal places\n",
    "        print(round(math.prod(lst), 2))\n",
    "        \n",
    "    except AssertionError:\n",
    "        print('Input is not a list')\n",
    "    except TypeError:\n",
    "        print('One item in list is not a number')"
   ]
  },
  {
   "cell_type": "code",
   "execution_count": 2,
   "metadata": {},
   "outputs": [
    {
     "name": "stdout",
     "output_type": "stream",
     "text": [
      "40320\n",
      "80658175170943878571660636856403766975289505440883277824000000000000\n",
      "0\n",
      "-597.96\n",
      "120\n"
     ]
    }
   ],
   "source": [
    "multiply_list(np.arange(1, 9).tolist()) # 8!\n",
    "multiply_list(np.arange(1, 53).tolist()) # 52!\n",
    "multiply_list([0, 1, 2, 3, 4, 5]) # 0\n",
    "multiply_list([9, 8, -1, 1.51, 5.5]) # This should be a decimal\n",
    "multiply_list([1, 2, 3, 4, 5])  # 5!"
   ]
  },
  {
   "cell_type": "markdown",
   "metadata": {},
   "source": [
    "2. Write a function that draws a grid like the following:"
   ]
  },
  {
   "cell_type": "code",
   "execution_count": 3,
   "metadata": {},
   "outputs": [],
   "source": [
    "# We set 5 columns and 5 rows as the default if no input is given\n",
    "def draw_grid(col=5, row=5):\n",
    "    try:\n",
    "        # We assert that 'col' and 'row' are integers, if not, AssertionError is raised\n",
    "        assert type(col) == int\n",
    "        assert type(row) == int\n",
    "        \n",
    "        # 'col' and 'row' must be 1 or greater, if not, ValueError is raised\n",
    "        if col < 1 or row < 1:\n",
    "            raise ValueError\n",
    "        \n",
    "        # Draw grid based on 'col' and 'row'\n",
    "        for _ in range(row):\n",
    "            print('+', end=' ')\n",
    "            for _ in range(col):\n",
    "                print('- - - -', end=' + ') \n",
    "\n",
    "            for _ in range(3):\n",
    "                print('\\n|', end='')\n",
    "                for _ in range(col):\n",
    "                    print('         |', end='')\n",
    "            print()\n",
    "\n",
    "        print('+', end=' ')\n",
    "        for _ in range(col):\n",
    "            print('- - - -', end=' + ')\n",
    "\n",
    "    except AssertionError:\n",
    "        print('Column or row is not an integer')\n",
    "    except ValueError:\n",
    "        print('Column and row cannot be less than 1')\n",
    "        "
   ]
  },
  {
   "cell_type": "code",
   "execution_count": 4,
   "metadata": {},
   "outputs": [
    {
     "name": "stdout",
     "output_type": "stream",
     "text": [
      "+ - - - - + - - - - + - - - - + - - - - + - - - - + - - - - + - - - - + - - - - + \n",
      "|         |         |         |         |         |         |         |         |\n",
      "|         |         |         |         |         |         |         |         |\n",
      "|         |         |         |         |         |         |         |         |\n",
      "+ - - - - + - - - - + - - - - + - - - - + - - - - + - - - - + - - - - + - - - - + \n",
      "|         |         |         |         |         |         |         |         |\n",
      "|         |         |         |         |         |         |         |         |\n",
      "|         |         |         |         |         |         |         |         |\n",
      "+ - - - - + - - - - + - - - - + - - - - + - - - - + - - - - + - - - - + - - - - + \n",
      "|         |         |         |         |         |         |         |         |\n",
      "|         |         |         |         |         |         |         |         |\n",
      "|         |         |         |         |         |         |         |         |\n",
      "+ - - - - + - - - - + - - - - + - - - - + - - - - + - - - - + - - - - + - - - - + \n",
      "|         |         |         |         |         |         |         |         |\n",
      "|         |         |         |         |         |         |         |         |\n",
      "|         |         |         |         |         |         |         |         |\n",
      "+ - - - - + - - - - + - - - - + - - - - + - - - - + - - - - + - - - - + - - - - + \n",
      "|         |         |         |         |         |         |         |         |\n",
      "|         |         |         |         |         |         |         |         |\n",
      "|         |         |         |         |         |         |         |         |\n",
      "+ - - - - + - - - - + - - - - + - - - - + - - - - + - - - - + - - - - + - - - - + "
     ]
    }
   ],
   "source": [
    "draw_grid(col=8, row=5)"
   ]
  },
  {
   "cell_type": "code",
   "execution_count": 5,
   "metadata": {},
   "outputs": [
    {
     "name": "stdout",
     "output_type": "stream",
     "text": [
      "+ - - - - + - - - - + - - - - + - - - - + - - - - + \n",
      "|         |         |         |         |         |\n",
      "|         |         |         |         |         |\n",
      "|         |         |         |         |         |\n",
      "+ - - - - + - - - - + - - - - + - - - - + - - - - + \n",
      "|         |         |         |         |         |\n",
      "|         |         |         |         |         |\n",
      "|         |         |         |         |         |\n",
      "+ - - - - + - - - - + - - - - + - - - - + - - - - + \n",
      "|         |         |         |         |         |\n",
      "|         |         |         |         |         |\n",
      "|         |         |         |         |         |\n",
      "+ - - - - + - - - - + - - - - + - - - - + - - - - + \n",
      "|         |         |         |         |         |\n",
      "|         |         |         |         |         |\n",
      "|         |         |         |         |         |\n",
      "+ - - - - + - - - - + - - - - + - - - - + - - - - + \n",
      "|         |         |         |         |         |\n",
      "|         |         |         |         |         |\n",
      "|         |         |         |         |         |\n",
      "+ - - - - + - - - - + - - - - + - - - - + - - - - + "
     ]
    }
   ],
   "source": [
    "draw_grid()"
   ]
  }
 ],
 "metadata": {
  "kernelspec": {
   "display_name": "Python 3",
   "language": "python",
   "name": "python3"
  },
  "language_info": {
   "codemirror_mode": {
    "name": "ipython",
    "version": 3
   },
   "file_extension": ".py",
   "mimetype": "text/x-python",
   "name": "python",
   "nbconvert_exporter": "python",
   "pygments_lexer": "ipython3",
   "version": "3.13.1"
  }
 },
 "nbformat": 4,
 "nbformat_minor": 2
}

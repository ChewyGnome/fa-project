{
 "cells": [
  {
   "cell_type": "markdown",
   "metadata": {},
   "source": [
    "## SA 1\n",
    "1.  Words.txt"
   ]
  },
  {
   "cell_type": "code",
   "execution_count": 2,
   "metadata": {},
   "outputs": [
    {
     "name": "stdout",
     "output_type": "stream",
     "text": [
      "Welcome to the Word Guessing Game!\n",
      "\n",
      "Word: _ _ _ _ _\n",
      "Attempts remaining: 6\n",
      "Correct guess!\n",
      "\n",
      "Word: _ a _ _ _\n",
      "Attempts remaining: 6\n",
      "Incorrect guess!\n",
      "\n",
      "Word: _ a _ _ _\n",
      "Attempts remaining: 5\n",
      "Incorrect guess!\n",
      "\n",
      "Word: _ a _ _ _\n",
      "Attempts remaining: 4\n",
      "Incorrect guess!\n",
      "\n",
      "Word: _ a _ _ _\n",
      "Attempts remaining: 3\n",
      "Incorrect guess!\n",
      "\n",
      "Word: _ a _ _ _\n",
      "Attempts remaining: 2\n",
      "Incorrect guess!\n",
      "\n",
      "Word: _ a _ _ _\n",
      "Attempts remaining: 1\n",
      "Incorrect guess!\n",
      "\n",
      "Game Over! The word was: kayos\n"
     ]
    }
   ],
   "source": [
    "import random\n",
    "import requests\n",
    "\n",
    "def load_words():\n",
    "    url = \"https://raw.githubusercontent.com/dwyl/english-words/master/words.txt\"\n",
    "    try:\n",
    "        with open(\"words.txt\", \"r\") as file:\n",
    "            return file.read().splitlines()\n",
    "    except FileNotFoundError:\n",
    "        print(\"Downloading word list...\")\n",
    "        words = requests.get(url).text.splitlines()\n",
    "        with open(\"words.txt\", \"w\") as file:\n",
    "            file.writelines(\"\\n\".join(words))\n",
    "        return words\n",
    "\n",
    "def play_game():\n",
    "    word = random.choice(load_words())\n",
    "    guessed, attempts = set(), 6\n",
    "    \n",
    "    print(\"Welcome to the Word Guessing Game!\")\n",
    "    while attempts > 0:\n",
    "        print(\"\\nWord:\", \" \".join([c if c in guessed else \"_\" for c in word]))\n",
    "        print(f\"Attempts remaining: {attempts}\")\n",
    "        guess = input(\"Guess a letter: \").lower()\n",
    "        \n",
    "        if len(guess) != 1 or not guess.isalpha() or guess in guessed:\n",
    "            print(\"Invalid or repeated guess.\")\n",
    "            continue\n",
    "        \n",
    "        guessed.add(guess)\n",
    "        if guess in word:\n",
    "            print(\"Correct guess!\")\n",
    "            if all(c in guessed for c in word):\n",
    "                print(\"\\nCongratulations! You guessed the word:\", word)\n",
    "                return\n",
    "        else:\n",
    "            print(\"Incorrect guess!\")\n",
    "            attempts -= 1\n",
    "    \n",
    "    print(\"\\nGame Over! The word was:\", word)\n",
    "\n",
    "if __name__ == \"__main__\":\n",
    "    play_game()\n"
   ]
  },
  {
   "cell_type": "markdown",
   "metadata": {},
   "source": [
    "2. Write a program on the Fibonacci sequence using both iterations and recursion, and including rendering time to compare the performance of both approaches."
   ]
  },
  {
   "cell_type": "code",
   "execution_count": null,
   "metadata": {},
   "outputs": [
    {
     "name": "stdout",
     "output_type": "stream",
     "text": [
      "Iterative Fibonacci:\n",
      "Result: 832040 Time taken: 4.291534423828125e-06 seconds\n",
      "\n",
      "Recursive Fibonacci:\n",
      "Result: 832040 Time taken: 0.1790308952331543 seconds\n"
     ]
    }
   ],
   "source": [
    "import time\n",
    "\n",
    "def fibonacci_iterative(n):\n",
    "    a, b = 0, 1\n",
    "    for i in range(n):\n",
    "        a, b = b, a + b\n",
    "    return a\n",
    "\n",
    "def fibonacci_recursive(n):\n",
    "    if n <= 1:\n",
    "        return n\n",
    "    return fibonacci_recursive(n - 1) + fibonacci_recursive(n - 2)\n",
    "\n",
    "def measure_time(func, n):\n",
    "    start = time.time()\n",
    "    result = func(n)\n",
    "    end = time.time()\n",
    "    return result, end - start\n",
    "\n",
    "n = 30\n",
    "\n",
    "print(\"Iterative Fibonacci:\")\n",
    "iter_result, iter_time = measure_time(fibonacci_iterative, n)\n",
    "print(\"Result:\", iter_result, \"Time taken:\", iter_time, \"seconds\")\n",
    "\n",
    "print(\"\\nRecursive Fibonacci:\")\n",
    "rec_result, rec_time = measure_time(fibonacci_recursive, n)\n",
    "print(\"Result:\", rec_result, \"Time taken:\", rec_time, \"seconds\")\n"
   ]
  },
  {
   "cell_type": "markdown",
   "metadata": {},
   "source": [
    "3. Write a program to find the solution to the equation"
   ]
  },
  {
   "cell_type": "code",
   "execution_count": 6,
   "metadata": {},
   "outputs": [
    {
     "name": "stdout",
     "output_type": "stream",
     "text": [
      "Solution: 2.113\n"
     ]
    }
   ],
   "source": [
    "def solve_equation(x0=2, tolerance=0.001):\n",
    "    def f(x):\n",
    "        return (20 - 5 * x) ** (1/3)\n",
    "\n",
    "    x_n = x0\n",
    "    while True:\n",
    "        x_next = f(x_n)\n",
    "        if abs(x_next - x_n) < tolerance: \n",
    "            break\n",
    "        x_n = x_next\n",
    "\n",
    "    return round(x_next, 3)\n",
    "\n",
    "result = solve_equation()\n",
    "print(\"Solution:\", result)\n"
   ]
  }
 ],
 "metadata": {
  "kernelspec": {
   "display_name": "Python 3",
   "language": "python",
   "name": "python3"
  },
  "language_info": {
   "codemirror_mode": {
    "name": "ipython",
    "version": 3
   },
   "file_extension": ".py",
   "mimetype": "text/x-python",
   "name": "python",
   "nbconvert_exporter": "python",
   "pygments_lexer": "ipython3",
   "version": "3.13.2"
  }
 },
 "nbformat": 4,
 "nbformat_minor": 2
}
